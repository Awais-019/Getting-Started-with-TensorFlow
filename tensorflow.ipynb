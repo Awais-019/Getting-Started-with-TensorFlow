{
 "cells": [
  {
   "attachments": {},
   "cell_type": "markdown",
   "metadata": {},
   "source": [
    "## Part1: Inroduction\n",
    "\n",
    "### 1.1: Installation\n",
    "TensorFlow is an open-source machine learning framework developed by Google. It allows developers to build and train machine learning models using a data flow graph that represents computation. TensorFlow is versatile and widely used for various machine learning tasks, including computer vision and natural language processing. It also includes a high-level API called Keras for quick and easy model building and training."
   ]
  },
  {
   "cell_type": "code",
   "execution_count": null,
   "metadata": {},
   "outputs": [],
   "source": [
    "%pip install tensorflow\n",
    "import tensorflow as tf"
   ]
  },
  {
   "attachments": {},
   "cell_type": "markdown",
   "metadata": {},
   "source": [
    "### 1.2 Tensors\n",
    "In machine learning and TensorFlow, a tensor is a multi-dimensional array of numerical values that represents input data, intermediate computations, and output data in a neural network. Each tensor has a data type (e.g., float32 or int64) and a shape, which defines the number of dimensions and the size of each dimension. Tensors can be created using the `tf.constant()` function and manipulated using a wide range of mathematical operations. Tensors are a critical component of machine learning and TensorFlow, providing a flexible and efficient way to represent and manipulate data in a neural network."
   ]
  },
  {
   "attachments": {},
   "cell_type": "markdown",
   "metadata": {},
   "source": [
    "#### 1.2.1 0-d Tensors"
   ]
  },
  {
   "cell_type": "code",
   "execution_count": 3,
   "metadata": {},
   "outputs": [
    {
     "name": "stdout",
     "output_type": "stream",
     "text": [
      "`city` is a 0-d tensor\n",
      "`pi` is a 0-d tensor\n"
     ]
    }
   ],
   "source": [
    "city = tf.constant(\"Beijing\", tf.string)\n",
    "pi = tf.cos(tf.constant(3.1415926, tf.float32))\n",
    "\n",
    "print(\"`city` is a {}-d tensor\".format(tf.rank(city).numpy()))\n",
    "print(\"`pi` is a {}-d tensor\".format(tf.rank(pi).numpy()))"
   ]
  }
 ],
 "metadata": {
  "kernelspec": {
   "display_name": "Python 3",
   "language": "python",
   "name": "python3"
  },
  "language_info": {
   "codemirror_mode": {
    "name": "ipython",
    "version": 3
   },
   "file_extension": ".py",
   "mimetype": "text/x-python",
   "name": "python",
   "nbconvert_exporter": "python",
   "pygments_lexer": "ipython3",
   "version": "3.10.6"
  },
  "orig_nbformat": 4
 },
 "nbformat": 4,
 "nbformat_minor": 2
}
