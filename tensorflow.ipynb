{
 "cells": [
  {
   "attachments": {},
   "cell_type": "markdown",
   "metadata": {},
   "source": [
    "## Part1: Inroduction\n",
    "\n",
    "### 1.1: Installation\n",
    "TensorFlow is an open-source machine learning framework developed by Google. It allows developers to build and train machine learning models using a data flow graph that represents computation. TensorFlow is versatile and widely used for various machine learning tasks, including computer vision and natural language processing. It also includes a high-level API called Keras for quick and easy model building and training."
   ]
  },
  {
   "cell_type": "code",
   "execution_count": null,
   "metadata": {},
   "outputs": [],
   "source": [
    "%pip install tensorflow\n",
    "import tensorflow as tf"
   ]
  },
  {
   "attachments": {},
   "cell_type": "markdown",
   "metadata": {},
   "source": [
    "### 1.2 Tensors\n",
    "In machine learning and TensorFlow, a tensor is a multi-dimensional array of numerical values that represents input data, intermediate computations, and output data in a neural network. Each tensor has a data type (e.g., float32 or int64) and a shape, which defines the number of dimensions and the size of each dimension. Tensors can be created using the `tf.constant()` function and manipulated using a wide range of mathematical operations. Tensors are a critical component of machine learning and TensorFlow, providing a flexible and efficient way to represent and manipulate data in a neural network."
   ]
  },
  {
   "attachments": {},
   "cell_type": "markdown",
   "metadata": {},
   "source": [
    "#### 1.2.1 0-d Tensors"
   ]
  },
  {
   "cell_type": "code",
   "execution_count": 3,
   "metadata": {},
   "outputs": [
    {
     "name": "stdout",
     "output_type": "stream",
     "text": [
      "`city` is a 0-d tensor\n",
      "`pi` is a 0-d tensor\n"
     ]
    }
   ],
   "source": [
    "city = tf.constant(\"Beijing\", tf.string)\n",
    "pi = tf.cos(tf.constant(3.1415926, tf.float32))\n",
    "\n",
    "print(\"`city` is a {}-d tensor\".format(tf.rank(city).numpy()))\n",
    "print(\"`pi` is a {}-d tensor\".format(tf.rank(pi).numpy()))"
   ]
  },
  {
   "attachments": {},
   "cell_type": "markdown",
   "metadata": {},
   "source": [
    "#### 1.2.2 1-d Tensors\n",
    "Vectors and lists can create 1-d Tensors"
   ]
  },
  {
   "cell_type": "code",
   "execution_count": 6,
   "metadata": {},
   "outputs": [
    {
     "name": "stdout",
     "output_type": "stream",
     "text": [
      "`cities` is a 1-d tensor with shape [3]\n",
      "`fvrt_numbers` is a 1-d tensor with shape [2]\n"
     ]
    }
   ],
   "source": [
    "cities = tf.constant([\"Beijing\", \"Shanghai\", \"Guangzhou\"], tf.string)\n",
    "fvrt_numbers = tf.constant([3.1415926, 2.71828], tf.float32)\n",
    "\n",
    "print(\"`cities` is a {}-d tensor with shape {}\".format(tf.rank(cities).numpy(), tf.shape(cities)))\n",
    "print(\"`fvrt_numbers` is a {}-d tensor with shape {}\".format(tf.rank(fvrt_numbers).numpy(), tf.shape(fvrt_numbers)))"
   ]
  },
  {
   "attachments": {},
   "cell_type": "markdown",
   "metadata": {},
   "source": [
    "#### 1.2.3 Higher Dimensional Tensors\n",
    "\n",
    "You can create 2-d, 3-d 4-d and even higher order Tensors"
   ]
  },
  {
   "cell_type": "code",
   "execution_count": 7,
   "metadata": {},
   "outputs": [
    {
     "name": "stdout",
     "output_type": "stream",
     "text": [
      "matrix is a 2-d tensor with shape [2 3]\n",
      "data is a 3-d tensor with shape [ 10 256 256]\n",
      "images is a 4-d tensor with shape [ 10 256 256   3]\n"
     ]
    }
   ],
   "source": [
    "# a 2-d tensor\n",
    "matrix = tf.constant([[1, 2, 3], [4, 5, 6]], tf.int32)\n",
    "\n",
    "# a 3-d tensor\n",
    "data = tf.ones([10, 256, 256], tf.int32)\n",
    "\n",
    "# a 4-d tensor\n",
    "images = tf.zeros([10, 256, 256, 3], tf.int32)\n",
    "\n",
    "print(\"matrix is a {}-d tensor with shape {}\".format(tf.rank(matrix).numpy(), tf.shape(matrix)))\n",
    "print(\"data is a {}-d tensor with shape {}\".format(tf.rank(data).numpy(), tf.shape(data)))\n",
    "print(\"images is a {}-d tensor with shape {}\".format(tf.rank(images).numpy(), tf.shape(images)))"
   ]
  },
  {
   "attachments": {},
   "cell_type": "markdown",
   "metadata": {},
   "source": [
    "### 1.3 Computations on Tensors\n",
    "In TensorFlow, computations occur in tensors through a process called data flow graph computation. A data flow graph is a directed graph where the nodes represent mathematical operations and the edges represent the tensors that flow between them. When a TensorFlow program is executed, it first builds a data flow graph, which specifies the operations to be performed and the order in which they should be executed.\n",
    "\n",
    "Once the data flow graph is constructed, TensorFlow performs a computation called a forward pass, which propagates the input data through the graph to produce an output. During the forward pass, each node in the graph performs its operation on the input tensors it receives and passes the output tensor(s) to the next node(s) in the graph. This process continues until the output tensor(s) are produced by the final node in the graph.\n",
    "\n",
    "After the forward pass is completed, TensorFlow performs a backward pass, which calculates the gradients of the output tensor(s) with respect to the input tensor(s). These gradients are used in a process called backpropagation, which updates the weights of the neural network to minimize the loss function.\n",
    "\n",
    "Overall, computations in TensorFlow occur in tensors through a data flow graph computation process that involves a forward pass and a backward pass. This process allows TensorFlow to efficiently perform complex mathematical operations on large datasets and train sophisticated machine learning models."
   ]
  },
  {
   "cell_type": "code",
   "execution_count": 8,
   "metadata": {},
   "outputs": [
    {
     "name": "stdout",
     "output_type": "stream",
     "text": [
      "tf.Tensor(76, shape=(), dtype=int32)\n",
      "tf.Tensor(76, shape=(), dtype=int32)\n"
     ]
    }
   ],
   "source": [
    "# create nodes in a graph\n",
    "a = tf.constant(15, name=\"a\")\n",
    "b = tf.constant(61, name=\"b\")\n",
    "\n",
    "# add them\n",
    "c1 = tf.add(a, b, name=\"c1\")\n",
    "c2 = a + b # TensorFlow overrides the \"+\" operation so that it is able to act on tensors\n",
    "print(c1)\n",
    "print(c2)"
   ]
  }
 ],
 "metadata": {
  "kernelspec": {
   "display_name": "Python 3",
   "language": "python",
   "name": "python3"
  },
  "language_info": {
   "codemirror_mode": {
    "name": "ipython",
    "version": 3
   },
   "file_extension": ".py",
   "mimetype": "text/x-python",
   "name": "python",
   "nbconvert_exporter": "python",
   "pygments_lexer": "ipython3",
   "version": "3.10.6"
  },
  "orig_nbformat": 4
 },
 "nbformat": 4,
 "nbformat_minor": 2
}
